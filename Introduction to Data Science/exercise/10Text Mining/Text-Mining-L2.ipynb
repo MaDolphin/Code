{
 "cells": [
  {
   "cell_type": "markdown",
   "metadata": {},
   "source": [
    "# Text Mining: doc2vec\n",
    "In the second Text Mining lecture you have learned about some more advanced model and techniques to analyze text: n-grams and word2vec/doc2vec. In this instruction we are going to see an example of how you can train a do2vec model and use it for text classification.\n",
    "\n",
    "For this we are going to use the 20newsgroups corpus again, where the documents are newsgroups posts and the label is the newsgroup the post was published in (and thus the topic).\n",
    "\n",
    "Let's first fetch the dataset:"
   ]
  },
  {
   "cell_type": "code",
   "execution_count": null,
   "metadata": {},
   "outputs": [],
   "source": [
    "# Loading the training set part of 20newsgroups\n",
    "from sklearn.datasets import fetch_20newsgroups\n",
    "\n",
    "twenty_train = fetch_20newsgroups(subset='train', shuffle=True)\n",
    "twenty_test = fetch_20newsgroups(subset='test', shuffle=True)"
   ]
  },
  {
   "cell_type": "markdown",
   "metadata": {},
   "source": [
    "The first entry looks like this:"
   ]
  },
  {
   "cell_type": "code",
   "execution_count": null,
   "metadata": {},
   "outputs": [],
   "source": [
    "print(twenty_train.data[0])"
   ]
  },
  {
   "cell_type": "markdown",
   "metadata": {},
   "source": [
    "Notice that, as shown below, targets are not strings but numbers. The target_names attribute allows us to fetch the list of labels: targets are indexes in this list of labels."
   ]
  },
  {
   "cell_type": "code",
   "execution_count": null,
   "metadata": {},
   "outputs": [],
   "source": [
    "print(twenty_train.target[0])"
   ]
  },
  {
   "cell_type": "code",
   "execution_count": null,
   "metadata": {},
   "outputs": [],
   "source": [
    "twenty_train.target_names"
   ]
  },
  {
   "cell_type": "code",
   "execution_count": null,
   "metadata": {},
   "outputs": [],
   "source": [
    "twenty_train.target_names[twenty_train.target[0]]"
   ]
  },
  {
   "cell_type": "markdown",
   "metadata": {},
   "source": [
    "## Preprocessing\n",
    "Let's preprocess the text. For this test, we are not going to normalize the text, but we will only tokenize it. The gensim tool `gensim.utils.simple_preprocess` tokenizes a text, puts everything in lowercase and eliminates punctuation.\n",
    "\n",
    "Gensim's doc2vec needs a list of TaggedDocument objects in input. A TaggedDocument is creating with two explicit parameters: `words`, which has to be a list of strings (tokens) and `tags`, which has to be a list of strings (labels). In our case, the label is unique, so we have to use a list with just one element (targets are lists because TaggedDocument also supports multilabel classification). Using the syntax above we fetch the string label for each document and we create TaggedDocuments.\n",
    "We do this for both training and test set."
   ]
  },
  {
   "cell_type": "code",
   "execution_count": null,
   "metadata": {},
   "outputs": [],
   "source": [
    "# Tokenizing, normalizing, and creating lists of TaggedDocument objects\n",
    "import gensim\n",
    "\n",
    "twenty_train_tagged = []\n",
    "twenty_test_tagged = []\n",
    "\n",
    "for i in range (0, len(twenty_train.data)):\n",
    "    twenty_train_tagged.append(gensim.models.doc2vec.TaggedDocument(words=gensim.utils.simple_preprocess(twenty_train.data[i]), tags=[twenty_train.target_names[twenty_train.target[i]]]))\n",
    "\n",
    "for i in range (0, len(twenty_test.data)):\n",
    "    twenty_test_tagged.append(gensim.models.doc2vec.TaggedDocument(words=gensim.utils.simple_preprocess(twenty_test.data[i]), tags=[twenty_test.target_names[twenty_test.target[i]]]))\n",
    "\n",
    "print(repr(twenty_train_tagged[0]))\n"
   ]
  },
  {
   "cell_type": "markdown",
   "metadata": {},
   "source": [
    "In order to speed up a bit the calculations, let's fetch the number of cores the machine has:"
   ]
  },
  {
   "cell_type": "code",
   "execution_count": null,
   "metadata": {},
   "outputs": [],
   "source": [
    "import multiprocessing\n",
    "\n",
    "cores = multiprocessing.cpu_count()"
   ]
  },
  {
   "cell_type": "markdown",
   "metadata": {},
   "source": [
    "## Creating a vocabulary\n",
    "\n",
    "At this point, we are ready to train our doc2vec model. The first thing to do is to create the vocabulary, in order to determine the sizes of input and output and also build the one-hot encoding for tokens:"
   ]
  },
  {
   "cell_type": "code",
   "execution_count": null,
   "metadata": {},
   "outputs": [],
   "source": [
    "# Building the vocabulary\n",
    "from gensim.models import Doc2Vec\n",
    "from tqdm import tqdm\n",
    "\n",
    "#doc2vec_model = Doc2Vec(dm=0, vector_size=40, min_count=2, workers=cores)\n",
    "doc2vec_model = Doc2Vec(dm=0, vector_size=40, workers=cores)\n",
    "doc2vec_model.build_vocab([x for x in tqdm(twenty_train_tagged)])"
   ]
  },
  {
   "cell_type": "markdown",
   "metadata": {},
   "source": [
    "## Obtaining a document embedding\n",
    "Once created the object for the model and the vocabulary, it is time to train the encoding neural network that will provide the representation. The hyperparameters are the regular ones for neural networks."
   ]
  },
  {
   "cell_type": "code",
   "execution_count": null,
   "metadata": {},
   "outputs": [],
   "source": [
    "# Training the doc2vec model\n",
    "from sklearn import utils\n",
    "\n",
    "for epoch in range(30):\n",
    "    doc2vec_model.train(utils.shuffle([x for x in tqdm(twenty_train_tagged)]), total_examples=len(twenty_train_tagged), epochs=1)\n",
    "    doc2vec_model.alpha -= 0.002\n",
    "    doc2vec_model.min_alpha = doc2vec_model.alpha"
   ]
  },
  {
   "cell_type": "markdown",
   "metadata": {},
   "source": [
    "## Creating the document features vector space\n",
    "Once trained the doc2vec representation model, we can use it to convert documents to fixed-length vectors in order to use these vectors in a classifier. The method `infer_vector` can be used for that:"
   ]
  },
  {
   "cell_type": "code",
   "execution_count": null,
   "metadata": {},
   "outputs": [],
   "source": [
    "# Building the feature vector for the classifier\n",
    "def vec_for_learning(model, docs):\n",
    "    doc2vec_vectors = [model.infer_vector(doc.words) for doc in docs]\n",
    "    targets = [doc.tags[0] for doc in docs]\n",
    "    return doc2vec_vectors, targets"
   ]
  },
  {
   "cell_type": "code",
   "execution_count": null,
   "metadata": {},
   "outputs": [],
   "source": [
    "# Translating docs into vectors for training and test set\n",
    "X_train, y_train = vec_for_learning(doc2vec_model, twenty_train_tagged)\n",
    "X_test, y_test = vec_for_learning(doc2vec_model, twenty_test_tagged)"
   ]
  },
  {
   "cell_type": "markdown",
   "metadata": {},
   "source": [
    "## Creating and training a classifier\n",
    "Finally, we can create a classifier with the usual syntax, and evaluate the results using the usual performance metrics."
   ]
  },
  {
   "cell_type": "code",
   "execution_count": null,
   "metadata": {},
   "outputs": [],
   "source": [
    "# Training a classification model\n",
    "from sklearn.linear_model import LogisticRegression\n",
    "\n",
    "log_reg = LogisticRegression(n_jobs=1, C=1e5)\n",
    "log_reg.fit(X_train, y_train)\n",
    "y_pred = log_reg.predict(X_test)"
   ]
  },
  {
   "cell_type": "code",
   "execution_count": null,
   "metadata": {},
   "outputs": [],
   "source": [
    "# Classification performance metrics\n",
    "from sklearn.metrics import accuracy_score, f1_score\n",
    "\n",
    "print('Testing accuracy %s' % accuracy_score(y_test, y_pred))\n",
    "print('Testing F1 score: {}'.format(f1_score(y_test, y_pred, average='weighted')))"
   ]
  }
 ],
 "metadata": {
  "kernelspec": {
   "display_name": "Python 3",
   "language": "python",
   "name": "python3"
  },
  "language_info": {
   "codemirror_mode": {
    "name": "ipython",
    "version": 3
   },
   "file_extension": ".py",
   "mimetype": "text/x-python",
   "name": "python",
   "nbconvert_exporter": "python",
   "pygments_lexer": "ipython3",
   "version": "3.7.0"
  },
  "toc": {
   "base_numbering": 1,
   "nav_menu": {},
   "number_sections": true,
   "sideBar": true,
   "skip_h1_title": false,
   "title_cell": "Table of Contents",
   "title_sidebar": "Contents",
   "toc_cell": false,
   "toc_position": {},
   "toc_section_display": true,
   "toc_window_display": false
  }
 },
 "nbformat": 4,
 "nbformat_minor": 2
}
